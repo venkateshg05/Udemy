{
 "cells": [
  {
   "cell_type": "code",
   "execution_count": 1,
   "metadata": {},
   "outputs": [],
   "source": [
    "import pandas as pd\n",
    "import numpy as np\n",
    "import matplotlib.pyplot as plt\n",
    "\n",
    "import math"
   ]
  },
  {
   "cell_type": "code",
   "execution_count": 2,
   "metadata": {},
   "outputs": [],
   "source": [
    "in_df = pd.read_csv(\n",
    "    r'/Users/venkatesh/Workspace/Udemy/ML/Machine Learning A-Z Template Folder/Part 6 - Reinforcement Learning/Section 32 - Upper Confidence Bound (UCB)/UCB/Ads_CTR_Optimisation.csv'\n",
    ")"
   ]
  },
  {
   "cell_type": "markdown",
   "metadata": {},
   "source": [
    "## Upper Confidence Bound"
   ]
  },
  {
   "cell_type": "code",
   "execution_count": 7,
   "metadata": {},
   "outputs": [],
   "source": [
    "rounds = in_df.shape[0]\n",
    "ads = in_df.shape[1]\n",
    "\n",
    "numbers_of_selections = [0] * ads\n",
    "sums_of_rewards = [0] * ads\n",
    "ads_selected = []\n",
    "total_rewards = 0\n",
    "for n in range(0,rounds):\n",
    "    ad_index = 0\n",
    "    max_upper_bound = 0\n",
    "    for i in range(0,ads):\n",
    "        if numbers_of_selections[i]>0:\n",
    "            avg_reward = sums_of_rewards[i]/numbers_of_selections[i]\n",
    "            delta_i = math.sqrt((3/2)*(math.log(n+1)/numbers_of_selections[i]))\n",
    "            upper_bound = avg_reward + delta_i\n",
    "        else:\n",
    "            upper_bound = 1e400\n",
    "        if upper_bound > max_upper_bound:\n",
    "            max_upper_bound = upper_bound\n",
    "            ad_index = i\n",
    "            \n",
    "    ads_selected.append(ad_index)\n",
    "    numbers_of_selections[ad_index] = numbers_of_selections[ad_index] + 1\n",
    "    reward = in_df.values[n, ad_index]\n",
    "    sums_of_rewards[ad_index] = sums_of_rewards[ad_index] + reward\n",
    "    total_rewards = total_rewards + reward\n",
    "            "
   ]
  },
  {
   "cell_type": "code",
   "execution_count": 8,
   "metadata": {},
   "outputs": [
    {
     "data": {
      "text/plain": [
       "2178"
      ]
     },
     "execution_count": 8,
     "metadata": {},
     "output_type": "execute_result"
    }
   ],
   "source": [
    "total_rewards"
   ]
  },
  {
   "cell_type": "code",
   "execution_count": 14,
   "metadata": {},
   "outputs": [
    {
     "data": {
      "text/plain": [
       "(array([ 705.,  387.,  186.,  345., 6323.,  150.,  292., 1170.,  256.,\n",
       "         186.]),\n",
       " array([0. , 0.9, 1.8, 2.7, 3.6, 4.5, 5.4, 6.3, 7.2, 8.1, 9. ]),\n",
       " <a list of 10 Patch objects>)"
      ]
     },
     "execution_count": 14,
     "metadata": {},
     "output_type": "execute_result"
    },
    {
     "data": {
      "image/png": "[encoded data removed]",
      "text/plain": [
       "<Figure size 432x288 with 1 Axes>"
      ]
     },
     "metadata": {
      "needs_background": "light"
     },
     "output_type": "display_data"
    }
   ],
   "source": [
    "plt.hist(ads_selected)"
   ]
  }
 ],
 "metadata": {
  "kernelspec": {
   "display_name": "Python 3",
   "language": "python",
   "name": "python3"
  },
  "language_info": {
   "codemirror_mode": {
    "name": "ipython",
    "version": 3
   },
   "file_extension": ".py",
   "mimetype": "text/x-python",
   "name": "python",
   "nbconvert_exporter": "python",
   "pygments_lexer": "ipython3",
   "version": "3.7.1"
  }
 },
 "nbformat": 4,
 "nbformat_minor": 2
}
